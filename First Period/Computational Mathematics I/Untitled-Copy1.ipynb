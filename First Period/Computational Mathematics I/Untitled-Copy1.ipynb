{
 "cells": [
  {
   "cell_type": "code",
   "execution_count": 7,
   "metadata": {},
   "outputs": [],
   "source": [
    "import scipy\n",
    "import matplotlib.pyplot as plt\n",
    "import numpy as np"
   ]
  },
  {
   "cell_type": "code",
   "execution_count": 8,
   "metadata": {},
   "outputs": [],
   "source": [
    "hour = [6, 12, 18, 22]\n",
    "temp = [17, 26, 24,]\n",
    "x = scipy.array(hour)\n",
    "y = scipy.array(temp)"
   ]
  },
  {
   "cell_type": "code",
   "execution_count": 9,
   "metadata": {},
   "outputs": [],
   "source": [
    "result = scipy.poly1d([0.0])"
   ]
  },
  {
   "cell_type": "code",
   "execution_count": 10,
   "metadata": {},
   "outputs": [],
   "source": [
    "for i in range(0, len(x)):\n",
    "    num = scipy.poly1d([1.0])\n",
    "    den = 1.0\n",
    "    \n",
    "    for j in range(0, len(x)):\n",
    "        if i != j:\n",
    "            num *= scipy.poly1d([1.0, -x[j]])\n",
    "            den *= x[i]-x[j]\n",
    "    result += (num/den)*y[i]\n",
    "# print(result)"
   ]
  },
  {
   "cell_type": "code",
   "execution_count": 11,
   "metadata": {},
   "outputs": [
    {
     "name": "stdout",
     "output_type": "stream",
     "text": [
      "Na hora  22  Temperatura  16.555555555555507\n"
     ]
    }
   ],
   "source": [
    "n = 22\n",
    "print (\"Na hora \", n, \" Temperatura \", result(n))"
   ]
  },
  {
   "cell_type": "code",
   "execution_count": 12,
   "metadata": {},
   "outputs": [
    {
     "data": {
      "image/png": "[encoded data removed]",
      "text/plain": [
       "<Figure size 432x288 with 1 Axes>"
      ]
     },
     "metadata": {
      "needs_background": "light"
     },
     "output_type": "display_data"
    }
   ],
   "source": [
    "x_val = np.arange(min(x),max(x)+1,0.1)\n",
    "plt.xlabel('Hora')\n",
    "plt.ylabel('Temperatura')\n",
    "plt.grid(True)\n",
    "for i in range(0,len(x)):\n",
    "    plt.plot([x[i]],[y[i]],'ro')\n",
    "    plt.plot(x_val, result(x_val))\n",
    "\n",
    "\n",
    "plt.axis([min(x)-1, max(x)+1, min(y)-1, max(y)+1])\n",
    "plt.show()"
   ]
  }
 ],
 "metadata": {
  "kernelspec": {
   "display_name": "Python 3",
   "language": "python",
   "name": "python3"
  },
  "language_info": {
   "codemirror_mode": {
    "name": "ipython",
    "version": 3
   },
   "file_extension": ".py",
   "mimetype": "text/x-python",
   "name": "python",
   "nbconvert_exporter": "python",
   "pygments_lexer": "ipython3",
   "version": "3.7.3"
  }
 },
 "nbformat": 4,
 "nbformat_minor": 2
}
