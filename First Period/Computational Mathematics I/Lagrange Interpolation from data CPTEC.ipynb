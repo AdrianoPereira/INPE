{
 "cells": [
  {
   "cell_type": "code",
   "execution_count": 1,
   "metadata": {},
   "outputs": [],
   "source": [
    "import requests\n",
    "import xmltodict\n",
    "import json\n",
    "import numpy as np\n",
    "import scipy.interpolate\n",
    "import matplotlib.pyplot as plt"
   ]
  },
  {
   "cell_type": "code",
   "execution_count": 2,
   "metadata": {},
   "outputs": [],
   "source": [
    "def xmlToDict(xml):\n",
    "    return xmltodict.parse(xml)    \n",
    "\n",
    "def formatJson(data):\n",
    "    return json.loads(json.dumps(data))"
   ]
  },
  {
   "cell_type": "code",
   "execution_count": 3,
   "metadata": {},
   "outputs": [],
   "source": [
    "URL_GET_CODE_CITY = 'http://servicos.cptec.inpe.br/XML/listaCidades'\n",
    "payload_city = {'city': 'sao jose dos campos'}\n",
    "\n",
    "r_locale = requests.get(URL_GET_CODE_CITY, params=payload_city)\n",
    "city = formatJson(xmlToDict(r_locale.content))"
   ]
  },
  {
   "cell_type": "code",
   "execution_count": 4,
   "metadata": {},
   "outputs": [
    {
     "data": {
      "text/plain": [
       "{'cidades': {'cidade': {'nome': 'São José dos Campos',\n",
       "   'uf': 'SP',\n",
       "   'id': '4963'}}}"
      ]
     },
     "execution_count": 4,
     "metadata": {},
     "output_type": "execute_result"
    }
   ],
   "source": [
    "city"
   ]
  },
  {
   "cell_type": "code",
   "execution_count": 5,
   "metadata": {},
   "outputs": [],
   "source": [
    "URL_PREDICTION_4DAYS = 'http://servicos.cptec.inpe.br/XML/cidade/%s/previsao.xml' % city['cidades']['cidade']['id']\n",
    "r_prediction_4days = requests.get(URL_PREDICTION_4DAYS)\n",
    "prediction_4days = formatJson(xmlToDict(r_prediction_4days.content))"
   ]
  },
  {
   "cell_type": "code",
   "execution_count": 6,
   "metadata": {},
   "outputs": [
    {
     "data": {
      "text/plain": [
       "{'cidade': {'nome': 'São José dos Campos',\n",
       "  'uf': 'SP',\n",
       "  'atualizacao': '2019-03-31',\n",
       "  'previsao': [{'dia': '2019-04-01',\n",
       "    'tempo': 'pn',\n",
       "    'maxima': '28',\n",
       "    'minima': '17',\n",
       "    'iuv': '10.0'},\n",
       "   {'dia': '2019-04-02',\n",
       "    'tempo': 'pn',\n",
       "    'maxima': '29',\n",
       "    'minima': '17',\n",
       "    'iuv': '10.0'},\n",
       "   {'dia': '2019-04-03',\n",
       "    'tempo': 'vn',\n",
       "    'maxima': '30',\n",
       "    'minima': '18',\n",
       "    'iuv': '10.0'},\n",
       "   {'dia': '2019-04-04',\n",
       "    'tempo': 'pn',\n",
       "    'maxima': '30',\n",
       "    'minima': '19',\n",
       "    'iuv': '10.0'}]}}"
      ]
     },
     "execution_count": 6,
     "metadata": {},
     "output_type": "execute_result"
    }
   ],
   "source": [
    "prediction_4days"
   ]
  },
  {
   "cell_type": "code",
   "execution_count": 10,
   "metadata": {},
   "outputs": [
    {
     "data": {
      "image/png": "[encoded data removed]",
      "text/plain": [
       "<Figure size 432x288 with 1 Axes>"
      ]
     },
     "metadata": {
      "needs_background": "light"
     },
     "output_type": "display_data"
    }
   ],
   "source": [
    "x_min = [int(x['minima']) for x in prediction_4days['cidade']['previsao']]\n",
    "y_max = [int(x['maxima']) for x in prediction_4days['cidade']['previsao']]\n",
    "plt.figure()\n",
    "u = plt.plot(x_min,y_max, 'ro')\n",
    "t = np.linspace(0, 1, len(x_min))\n",
    "x_min.append(10)\n",
    "pxLagrange = scipy.interpolate.lagrange(t, x_min)\n",
    "pyLagrange = scipy.interpolate.lagrange(t, y_max)\n",
    "n = 100\n",
    "ts = np.linspace(t[0],t[-1],n)\n",
    "xLagrange = pxLagrange(ts)\n",
    "yLagrange = pyLagrange(ts)\n",
    "plt.plot(xLagrange, yLagrange,'b-',label = \"Polynomial\")\n",
    "plt.xlabel('Temperatura mínima')\n",
    "plt.ylabel('Temperatura máxima')\n",
    "plt.show()"
   ]
  },
  {
   "cell_type": "code",
   "execution_count": 11,
   "metadata": {},
   "outputs": [
    {
     "data": {
      "text/plain": [
       "poly1d([-4.5,  9. , -2.5, 17. ])"
      ]
     },
     "execution_count": 11,
     "metadata": {},
     "output_type": "execute_result"
    }
   ],
   "source": [
    "pxLagrange"
   ]
  },
  {
   "cell_type": "code",
   "execution_count": 12,
   "metadata": {},
   "outputs": [
    {
     "data": {
      "text/plain": [
       "[17, 17, 18, 19, 10]"
      ]
     },
     "execution_count": 12,
     "metadata": {},
     "output_type": "execute_result"
    }
   ],
   "source": [
    "x_min"
   ]
  }
 ],
 "metadata": {
  "kernelspec": {
   "display_name": "Python 3",
   "language": "python",
   "name": "python3"
  },
  "language_info": {
   "codemirror_mode": {
    "name": "ipython",
    "version": 3
   },
   "file_extension": ".py",
   "mimetype": "text/x-python",
   "name": "python",
   "nbconvert_exporter": "python",
   "pygments_lexer": "ipython3",
   "version": "3.7.3"
  }
 },
 "nbformat": 4,
 "nbformat_minor": 2
}
